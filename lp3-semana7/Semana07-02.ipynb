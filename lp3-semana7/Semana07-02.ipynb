{
 "cells": [
  {
   "cell_type": "markdown",
   "id": "19a090d2",
   "metadata": {},
   "source": [
    "# Semana07\n",
    "Kenet Simon Ureta Flover "
   ]
  },
  {
   "cell_type": "markdown",
   "id": "3873ecc5",
   "metadata": {},
   "source": [
    "Temas:\n",
    "    1.Numeros\n",
    "    2.Variables \n",
    "    3.Manejo de cadenas \n",
    "    4.Ingreso de datos por el teclado\n",
    "    5.Operadores"
   ]
  },
  {
   "cell_type": "markdown",
   "id": "0d0731ee",
   "metadata": {},
   "source": [
    "2.Variables"
   ]
  },
  {
   "cell_type": "code",
   "execution_count": 2,
   "id": "be3766ad",
   "metadata": {},
   "outputs": [
    {
     "data": {
      "text/plain": [
       "41"
      ]
     },
     "execution_count": 2,
     "metadata": {},
     "output_type": "execute_result"
    }
   ],
   "source": [
    "edad=41\n",
    "edad"
   ]
  },
  {
   "cell_type": "code",
   "execution_count": 4,
   "id": "f43f62c6",
   "metadata": {},
   "outputs": [
    {
     "data": {
      "text/plain": [
       "'Tu nombre completo es KenetUreta'"
      ]
     },
     "execution_count": 4,
     "metadata": {},
     "output_type": "execute_result"
    }
   ],
   "source": [
    "nombre=\"Kenet\"\n",
    "apellido=\"Ureta\"\n",
    "\"Tu nombre completo es \"+ nombre +\"\"+apellido"
   ]
  },
  {
   "cell_type": "code",
   "execution_count": 5,
   "id": "14934f8a",
   "metadata": {},
   "outputs": [
    {
     "data": {
      "text/plain": [
       "'KenetUreta'"
      ]
     },
     "execution_count": 5,
     "metadata": {},
     "output_type": "execute_result"
    }
   ],
   "source": [
    "nombrecompleto= nombre +apellido \n",
    "nombrecompleto "
   ]
  },
  {
   "cell_type": "code",
   "execution_count": 6,
   "id": "4103f6aa",
   "metadata": {},
   "outputs": [
    {
     "data": {
      "text/plain": [
       "'KenetUreta'"
      ]
     },
     "execution_count": 6,
     "metadata": {},
     "output_type": "execute_result"
    }
   ],
   "source": [
    "nombrecompleto= nombre+\"\"+apellido\n",
    "nombrecompleto"
   ]
  },
  {
   "cell_type": "code",
   "execution_count": 7,
   "id": "7375a0f2",
   "metadata": {},
   "outputs": [
    {
     "data": {
      "text/plain": [
       "int"
      ]
     },
     "execution_count": 7,
     "metadata": {},
     "output_type": "execute_result"
    }
   ],
   "source": [
    "#para saber el tipo de variable utilizamos la funcion type()\n",
    "#Por ejemplo:\n",
    "numero=50\n",
    "type(numero)"
   ]
  },
  {
   "cell_type": "code",
   "execution_count": 8,
   "id": "1027cc6e",
   "metadata": {},
   "outputs": [
    {
     "data": {
      "text/plain": [
       "str"
      ]
     },
     "execution_count": 8,
     "metadata": {},
     "output_type": "execute_result"
    }
   ],
   "source": [
    "type(nombre)"
   ]
  },
  {
   "cell_type": "code",
   "execution_count": 9,
   "id": "b4b9705b",
   "metadata": {},
   "outputs": [
    {
     "data": {
      "text/plain": [
       "1.57"
      ]
     },
     "execution_count": 9,
     "metadata": {},
     "output_type": "execute_result"
    }
   ],
   "source": [
    "talla=1.57\n",
    "talla"
   ]
  },
  {
   "cell_type": "code",
   "execution_count": 10,
   "id": "f688dca8",
   "metadata": {},
   "outputs": [
    {
     "data": {
      "text/plain": [
       "'100'"
      ]
     },
     "execution_count": 10,
     "metadata": {},
     "output_type": "execute_result"
    }
   ],
   "source": [
    "#Para convertir un numero en cadena utilizamos str()\n",
    "numero=100\n",
    "cadena=str(numero)\n",
    "cadena"
   ]
  },
  {
   "cell_type": "code",
   "execution_count": 11,
   "id": "5b9f2883",
   "metadata": {},
   "outputs": [
    {
     "data": {
      "text/plain": [
       "str"
      ]
     },
     "execution_count": 11,
     "metadata": {},
     "output_type": "execute_result"
    }
   ],
   "source": [
    "type(cadena)"
   ]
  },
  {
   "cell_type": "code",
   "execution_count": 12,
   "id": "dcfb6d13",
   "metadata": {},
   "outputs": [
    {
     "data": {
      "text/plain": [
       "50"
      ]
     },
     "execution_count": 12,
     "metadata": {},
     "output_type": "execute_result"
    }
   ],
   "source": [
    "#Para convertir una cadena en un numero entero utilizamos int()\n",
    "cadena2=\"50\"\n",
    "numero2=int(cadena2)\n",
    "numero2"
   ]
  },
  {
   "cell_type": "code",
   "execution_count": 13,
   "id": "baa78070",
   "metadata": {},
   "outputs": [
    {
     "data": {
      "text/plain": [
       "50.0"
      ]
     },
     "execution_count": 13,
     "metadata": {},
     "output_type": "execute_result"
    }
   ],
   "source": [
    "#para convertir una cadena a un decimal utilizamos float()\n",
    "cadena2=\"50\"\n",
    "numero2=float(cadena2)\n",
    "numero2"
   ]
  },
  {
   "cell_type": "code",
   "execution_count": 14,
   "id": "e09383fe",
   "metadata": {},
   "outputs": [
    {
     "data": {
      "text/plain": [
       "float"
      ]
     },
     "execution_count": 14,
     "metadata": {},
     "output_type": "execute_result"
    }
   ],
   "source": [
    "type(numero2)"
   ]
  },
  {
   "cell_type": "code",
   "execution_count": null,
   "id": "19dabf1a",
   "metadata": {},
   "outputs": [],
   "source": []
  }
 ],
 "metadata": {
  "kernelspec": {
   "display_name": "Python 3 (ipykernel)",
   "language": "python",
   "name": "python3"
  },
  "language_info": {
   "codemirror_mode": {
    "name": "ipython",
    "version": 3
   },
   "file_extension": ".py",
   "mimetype": "text/x-python",
   "name": "python",
   "nbconvert_exporter": "python",
   "pygments_lexer": "ipython3",
   "version": "3.9.12"
  }
 },
 "nbformat": 4,
 "nbformat_minor": 5
}
