{
 "cells": [
  {
   "cell_type": "markdown",
   "id": "d9260190",
   "metadata": {},
   "source": [
    "# Semana 07\n",
    "Kenet Simon Ureta Flover"
   ]
  },
  {
   "cell_type": "raw",
   "id": "73c1b42c",
   "metadata": {},
   "source": [
    "Temas :\n",
    "    1.Numeros\n",
    "    2.Variables \n",
    "    3.Manejo de cadenas \n",
    "    4.Ingreso de cadenas\n",
    "    5.Operadores"
   ]
  },
  {
   "cell_type": "raw",
   "id": "7e999fef",
   "metadata": {},
   "source": [
    "5.Operadores"
   ]
  },
  {
   "cell_type": "raw",
   "id": "86b115b1",
   "metadata": {},
   "source": [
    "#5.1 Operadores aritmeticos \n",
    "#Se tiene: +,-,*,/,\n"
   ]
  },
  {
   "cell_type": "code",
   "execution_count": 3,
   "id": "cc02eb4b",
   "metadata": {},
   "outputs": [
    {
     "name": "stdout",
     "output_type": "stream",
     "text": [
      "13\n",
      "7\n",
      "30\n",
      "10\n",
      "1\n",
      "3\n",
      "1000\n"
     ]
    }
   ],
   "source": [
    "numero1=10\n",
    "numero2=3\n",
    "suma=numero1+numero2\n",
    "resta=numero1-numero2\n",
    "multiplicacion =numero1*numero2\n",
    "division= numero1\n",
    "residuo=numero1%numero2\n",
    "cociente=numero1//numero2\n",
    "potencia=numero1 ** numero2\n",
    "print(suma)\n",
    "print(resta)\n",
    "print(multiplicacion)\n",
    "print(division)\n",
    "print(residuo)\n",
    "print(cociente)\n",
    "print(potencia)\n",
    "\n"
   ]
  },
  {
   "cell_type": "code",
   "execution_count": 4,
   "id": "63f3fbe9",
   "metadata": {},
   "outputs": [
    {
     "name": "stdout",
     "output_type": "stream",
     "text": [
      "8\n"
     ]
    }
   ],
   "source": [
    "#5.2 Operadores de asignacion \n",
    "# Se tiene: =. += , -= , *= , /= , **=\n",
    "numero=5\n",
    "numero = numero +3\n",
    "print(numero)"
   ]
  },
  {
   "cell_type": "code",
   "execution_count": 5,
   "id": "93fc8938",
   "metadata": {},
   "outputs": [
    {
     "name": "stdout",
     "output_type": "stream",
     "text": [
      "8\n"
     ]
    }
   ],
   "source": [
    "#La operacion anteriro tambien se puede expresar de la siguiente manera:\n",
    "numero =5\n",
    "numero +=3\n",
    "print(numero)"
   ]
  },
  {
   "cell_type": "code",
   "execution_count": 6,
   "id": "47849165",
   "metadata": {},
   "outputs": [
    {
     "name": "stdout",
     "output_type": "stream",
     "text": [
      "125\n"
     ]
    }
   ],
   "source": [
    "#la mismo se puede hacer con todos los casos , incluso la potencia\n",
    "numero=5\n",
    "numero=numero ** 3\n",
    "print(numero)"
   ]
  },
  {
   "cell_type": "code",
   "execution_count": 7,
   "id": "afacfda3",
   "metadata": {},
   "outputs": [
    {
     "name": "stdout",
     "output_type": "stream",
     "text": [
      "125\n"
     ]
    }
   ],
   "source": [
    "#lA operaciion anterior  tambien se puede expresar de la siguiente manera=\n",
    "numero=5\n",
    "numero **=3\n",
    "print(numero)"
   ]
  },
  {
   "cell_type": "code",
   "execution_count": 8,
   "id": "8b57be76",
   "metadata": {},
   "outputs": [],
   "source": [
    "#5.3 Operadores de comparacion \n",
    "#Se tiene ==, !=, <,>,<=,>=,"
   ]
  },
  {
   "cell_type": "code",
   "execution_count": 10,
   "id": "658584f2",
   "metadata": {},
   "outputs": [
    {
     "data": {
      "text/plain": [
       "False"
      ]
     },
     "execution_count": 10,
     "metadata": {},
     "output_type": "execute_result"
    }
   ],
   "source": [
    "#Ejemplo de igualdad ==\n",
    "numero1=5\n",
    "numero2=2\n",
    "numero1 == numero2"
   ]
  },
  {
   "cell_type": "code",
   "execution_count": 12,
   "id": "6eb75a4b",
   "metadata": {},
   "outputs": [],
   "source": [
    "#5.4 Operaiones Logicos \n",
    "#se  tiene : and , or , not\n",
    "numero1=5\n",
    "numero2=6\n",
    "numero3=7\n",
    "numero4=8\n"
   ]
  },
  {
   "cell_type": "code",
   "execution_count": 13,
   "id": "82c65358",
   "metadata": {},
   "outputs": [
    {
     "data": {
      "text/plain": [
       "True"
      ]
     },
     "execution_count": 13,
     "metadata": {},
     "output_type": "execute_result"
    }
   ],
   "source": [
    "numero1<numero2"
   ]
  },
  {
   "cell_type": "code",
   "execution_count": 14,
   "id": "e41e12de",
   "metadata": {},
   "outputs": [
    {
     "data": {
      "text/plain": [
       "False"
      ]
     },
     "execution_count": 14,
     "metadata": {},
     "output_type": "execute_result"
    }
   ],
   "source": [
    "#el not invierte el resultado\n",
    "not(numero1<numero2)"
   ]
  },
  {
   "cell_type": "code",
   "execution_count": 15,
   "id": "2653e560",
   "metadata": {},
   "outputs": [
    {
     "data": {
      "text/plain": [
       "True"
      ]
     },
     "execution_count": 15,
     "metadata": {},
     "output_type": "execute_result"
    }
   ],
   "source": [
    "numero1<numero2 and numero3 <numero4"
   ]
  },
  {
   "cell_type": "code",
   "execution_count": 16,
   "id": "71fd0e07",
   "metadata": {},
   "outputs": [],
   "source": [
    "#tambien puedes utilizar parentesis para ordenar tu operacion "
   ]
  },
  {
   "cell_type": "code",
   "execution_count": 17,
   "id": "a0f13604",
   "metadata": {},
   "outputs": [],
   "source": [
    "#5.5 Operadores de Pertencia \n",
    "#Se tiene : in , not in"
   ]
  },
  {
   "cell_type": "code",
   "execution_count": 18,
   "id": "33225919",
   "metadata": {},
   "outputs": [],
   "source": [
    "#Miremos un ejemplo:\n",
    "aula=[\"juan\",\"Daniel\",\"Ruben\"]\n",
    "alumno1=\"diego\"\n",
    "alumno2=\"juan\""
   ]
  },
  {
   "cell_type": "code",
   "execution_count": 20,
   "id": "793fc957",
   "metadata": {},
   "outputs": [
    {
     "data": {
      "text/plain": [
       "False"
      ]
     },
     "execution_count": 20,
     "metadata": {},
     "output_type": "execute_result"
    }
   ],
   "source": [
    "#¿Diego esta en aula?\n",
    "alumno1 in aula "
   ]
  },
  {
   "cell_type": "code",
   "execution_count": 21,
   "id": "8b55225c",
   "metadata": {},
   "outputs": [
    {
     "data": {
      "text/plain": [
       "True"
      ]
     },
     "execution_count": 21,
     "metadata": {},
     "output_type": "execute_result"
    }
   ],
   "source": [
    "#Diego no esta en aula \n",
    "alumno1 not in aula"
   ]
  },
  {
   "cell_type": "code",
   "execution_count": 22,
   "id": "25fb760e",
   "metadata": {},
   "outputs": [],
   "source": [
    "#5.6 Operacion de identidad\n",
    "# Se tiene: is , is not \n"
   ]
  },
  {
   "cell_type": "code",
   "execution_count": 23,
   "id": "87d3786b",
   "metadata": {},
   "outputs": [],
   "source": [
    "aula1=[\"juan\",\"Daniel\",\"Ruben\"]\n",
    "aula2=[\"juan\",\"Daniel\",\"Ruben\"]\n",
    "#A continuacion vamos a indicar que aula3 va a \n",
    "#compartir el mismo objeto que aula1\n",
    "aula3 = aula1"
   ]
  },
  {
   "cell_type": "code",
   "execution_count": 24,
   "id": "473d8e15",
   "metadata": {},
   "outputs": [
    {
     "data": {
      "text/plain": [
       "True"
      ]
     },
     "execution_count": 24,
     "metadata": {},
     "output_type": "execute_result"
    }
   ],
   "source": [
    "#¿aula3 comparte el mismo objeto que aula1?\n",
    "aula1 is aula3"
   ]
  },
  {
   "cell_type": "code",
   "execution_count": 25,
   "id": "f85d3803",
   "metadata": {},
   "outputs": [
    {
     "data": {
      "text/plain": [
       "False"
      ]
     },
     "execution_count": 25,
     "metadata": {},
     "output_type": "execute_result"
    }
   ],
   "source": [
    "#¿aula2 comparte el mismo objeto que aula1?\n",
    "aula2 is aula1"
   ]
  },
  {
   "cell_type": "code",
   "execution_count": 26,
   "id": "5e759cf0",
   "metadata": {},
   "outputs": [],
   "source": [
    "aula1.append(\"Diego\")"
   ]
  },
  {
   "cell_type": "code",
   "execution_count": 28,
   "id": "18037b02",
   "metadata": {},
   "outputs": [
    {
     "name": "stdout",
     "output_type": "stream",
     "text": [
      "['juan', 'Daniel', 'Ruben', 'Diego']\n"
     ]
    }
   ],
   "source": [
    "#Al inprimir los elementos de la lista aula1 se observa \n",
    "print(aula1)"
   ]
  },
  {
   "cell_type": "code",
   "execution_count": 29,
   "id": "bbaebb81",
   "metadata": {},
   "outputs": [
    {
     "name": "stdout",
     "output_type": "stream",
     "text": [
      "['juan', 'Daniel', 'Ruben', 'Diego']\n"
     ]
    }
   ],
   "source": [
    "#Al inprimir los elementos de la lista aula1 se observa \n",
    "print(aula3)"
   ]
  },
  {
   "cell_type": "code",
   "execution_count": null,
   "id": "842c6a92",
   "metadata": {},
   "outputs": [],
   "source": []
  }
 ],
 "metadata": {
  "kernelspec": {
   "display_name": "Python 3 (ipykernel)",
   "language": "python",
   "name": "python3"
  },
  "language_info": {
   "codemirror_mode": {
    "name": "ipython",
    "version": 3
   },
   "file_extension": ".py",
   "mimetype": "text/x-python",
   "name": "python",
   "nbconvert_exporter": "python",
   "pygments_lexer": "ipython3",
   "version": "3.9.12"
  }
 },
 "nbformat": 4,
 "nbformat_minor": 5
}
