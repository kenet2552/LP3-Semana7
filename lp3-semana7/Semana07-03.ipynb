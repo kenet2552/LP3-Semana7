{
 "cells": [
  {
   "cell_type": "markdown",
   "id": "4a82b820",
   "metadata": {},
   "source": [
    "# Semana07\n",
    "Kenet Simon Ureta Flover"
   ]
  },
  {
   "cell_type": "raw",
   "id": "aa051ae8",
   "metadata": {},
   "source": [
    "Temas :\n",
    "    1.Numeros\n",
    "    2.Variables \n",
    "    3.Manejo de cadenas \n",
    "    4.Ingreso de datos por el teclado\n",
    "    5.Operadores"
   ]
  },
  {
   "cell_type": "markdown",
   "id": "8d7c82a4",
   "metadata": {},
   "source": [
    "3.Manejo de Cadenas"
   ]
  },
  {
   "cell_type": "code",
   "execution_count": 1,
   "id": "eec6da76",
   "metadata": {},
   "outputs": [
    {
     "data": {
      "text/plain": [
       "'Universidad Nacional Tecnologica de Lima Sur'"
      ]
     },
     "execution_count": 1,
     "metadata": {},
     "output_type": "execute_result"
    }
   ],
   "source": [
    "cadena=\"Universidad Nacional Tecnologica de Lima Sur\"\n",
    "cadena"
   ]
  },
  {
   "cell_type": "code",
   "execution_count": 2,
   "id": "d46f03be",
   "metadata": {},
   "outputs": [],
   "source": [
    "#universidad Nacional Tecnologica de Lima Sur\n",
    "#01234.........                            -2-1"
   ]
  },
  {
   "cell_type": "code",
   "execution_count": 3,
   "id": "f03c4e29",
   "metadata": {},
   "outputs": [
    {
     "data": {
      "text/plain": [
       "'r'"
      ]
     },
     "execution_count": 3,
     "metadata": {},
     "output_type": "execute_result"
    }
   ],
   "source": [
    "cadena[5]"
   ]
  },
  {
   "cell_type": "code",
   "execution_count": 4,
   "id": "3f1c6e5f",
   "metadata": {},
   "outputs": [
    {
     "data": {
      "text/plain": [
       "'d'"
      ]
     },
     "execution_count": 4,
     "metadata": {},
     "output_type": "execute_result"
    }
   ],
   "source": [
    "cadena[10]"
   ]
  },
  {
   "cell_type": "code",
   "execution_count": 5,
   "id": "d335430e",
   "metadata": {},
   "outputs": [
    {
     "data": {
      "text/plain": [
       "' '"
      ]
     },
     "execution_count": 5,
     "metadata": {},
     "output_type": "execute_result"
    }
   ],
   "source": [
    "#Tambien considera los espacios\n",
    "cadena[11]"
   ]
  },
  {
   "cell_type": "code",
   "execution_count": 6,
   "id": "91ac4f23",
   "metadata": {},
   "outputs": [
    {
     "data": {
      "text/plain": [
       "'a'"
      ]
     },
     "execution_count": 6,
     "metadata": {},
     "output_type": "execute_result"
    }
   ],
   "source": [
    "#¿Que me mostrara?\n",
    "cadena[-5]"
   ]
  },
  {
   "cell_type": "code",
   "execution_count": 7,
   "id": "c2af149c",
   "metadata": {},
   "outputs": [
    {
     "data": {
      "text/plain": [
       "'T'"
      ]
     },
     "execution_count": 7,
     "metadata": {},
     "output_type": "execute_result"
    }
   ],
   "source": [
    "cadena[21]"
   ]
  },
  {
   "cell_type": "code",
   "execution_count": 8,
   "id": "38c7ad13",
   "metadata": {},
   "outputs": [
    {
     "data": {
      "text/plain": [
       "'T'"
      ]
     },
     "execution_count": 8,
     "metadata": {},
     "output_type": "execute_result"
    }
   ],
   "source": [
    "#Tambien lo puedes mostrar accediendo de manera inversa \n",
    "cadena[-23]"
   ]
  },
  {
   "cell_type": "code",
   "execution_count": 9,
   "id": "22dc7729",
   "metadata": {},
   "outputs": [
    {
     "data": {
      "text/plain": [
       "'versi'"
      ]
     },
     "execution_count": 9,
     "metadata": {},
     "output_type": "execute_result"
    }
   ],
   "source": [
    "#para mostrar un subcadena [desde,hasta una antees]\n",
    "#en java era substring()\n",
    "cadena[3:8]"
   ]
  },
  {
   "cell_type": "code",
   "execution_count": 10,
   "id": "b49f7648",
   "metadata": {},
   "outputs": [
    {
     "data": {
      "text/plain": [
       "44"
      ]
     },
     "execution_count": 10,
     "metadata": {},
     "output_type": "execute_result"
    }
   ],
   "source": [
    "#para saber el tamaño de una cadena utilizamos len()\n",
    "#incluye espacios   en blanco \n",
    "len(cadena)"
   ]
  },
  {
   "cell_type": "code",
   "execution_count": 11,
   "id": "50dcd0db",
   "metadata": {},
   "outputs": [
    {
     "data": {
      "text/plain": [
       "'Universidad Nacional Tecnologica de Lima Sur'"
      ]
     },
     "execution_count": 11,
     "metadata": {},
     "output_type": "execute_result"
    }
   ],
   "source": [
    "#para mostrar una cadena en mayuscula utilizamos upper()\n",
    "cadena.upper()\n",
    "cadena"
   ]
  },
  {
   "cell_type": "code",
   "execution_count": 12,
   "id": "b7fd8d96",
   "metadata": {},
   "outputs": [
    {
     "data": {
      "text/plain": [
       "['Universidad', 'Nacional', 'Tecnologica', 'de', 'Lima', 'Sur']"
      ]
     },
     "execution_count": 12,
     "metadata": {},
     "output_type": "execute_result"
    }
   ],
   "source": [
    "#Generar una lista a apartir de una cadena. split()\n",
    "cadena.split()"
   ]
  },
  {
   "cell_type": "code",
   "execution_count": 14,
   "id": "8c8a987d",
   "metadata": {},
   "outputs": [
    {
     "data": {
      "text/plain": [
       "['Universid', 'd N', 'cion', 'l Tecnologic', ' de Lim', ' Sur']"
      ]
     },
     "execution_count": 14,
     "metadata": {},
     "output_type": "execute_result"
    }
   ],
   "source": [
    "#Generar una lista utilizando un criterio de separacion a partir de una cadena. split()\n",
    "#Eb este caso vamos a generar una lista de toda la cadena , utilizando como criterio de s\n",
    "cadena.split(\"a\")"
   ]
  },
  {
   "cell_type": "code",
   "execution_count": 17,
   "id": "665fa287",
   "metadata": {},
   "outputs": [
    {
     "name": "stdout",
     "output_type": "stream",
     "text": [
      "Buenas Tardes Kenet Ureta\n"
     ]
    }
   ],
   "source": [
    "#Forma clasica , concatenar con +\n",
    "nombre=\"Kenet Ureta\"\n",
    "print(\"Buenas Tardes \"+nombre)"
   ]
  },
  {
   "cell_type": "code",
   "execution_count": 18,
   "id": "584f212d",
   "metadata": {},
   "outputs": [
    {
     "name": "stdout",
     "output_type": "stream",
     "text": [
      "hola Pablo Levano ya se que tienes 10 años\n"
     ]
    }
   ],
   "source": [
    "#Utilizando  el  .format()\n",
    "nombre = \"Pablo Levano\" \n",
    "edad=10\n",
    "print(\"hola {} ya se que tienes {} años\".format(nombre,edad))\n"
   ]
  },
  {
   "cell_type": "code",
   "execution_count": 19,
   "id": "58fbe71d",
   "metadata": {},
   "outputs": [
    {
     "name": "stdout",
     "output_type": "stream",
     "text": [
      "10/3 es = 3.3333333333333335\n",
      "10/3 es =3.333\n"
     ]
    }
   ],
   "source": [
    "#Dar formato a numeros ocn muchos decimales \n",
    "resultado=10/3\n",
    "print(\"10/3 es = {}\".format(resultado ))\n",
    "print(\"10/3 es ={r:1.3f}\".format(r=resultado ))"
   ]
  },
  {
   "cell_type": "code",
   "execution_count": 21,
   "id": "26ca3acf",
   "metadata": {},
   "outputs": [
    {
     "name": "stdout",
     "output_type": "stream",
     "text": [
      "buenos dias Daniel Levano , ya se que tienes 8\n"
     ]
    }
   ],
   "source": [
    "#dar formato con f \n",
    "#La funcion f , esta disponible  desde la version 3.6\n",
    "nombre=\"Daniel Levano\"\n",
    "edad=8\n",
    "print(f\"buenos dias {nombre} , ya se que tienes {edad}\")"
   ]
  },
  {
   "cell_type": "code",
   "execution_count": null,
   "id": "5fb2d5a2",
   "metadata": {},
   "outputs": [],
   "source": []
  }
 ],
 "metadata": {
  "kernelspec": {
   "display_name": "Python 3 (ipykernel)",
   "language": "python",
   "name": "python3"
  },
  "language_info": {
   "codemirror_mode": {
    "name": "ipython",
    "version": 3
   },
   "file_extension": ".py",
   "mimetype": "text/x-python",
   "name": "python",
   "nbconvert_exporter": "python",
   "pygments_lexer": "ipython3",
   "version": "3.9.12"
  }
 },
 "nbformat": 4,
 "nbformat_minor": 5
}
