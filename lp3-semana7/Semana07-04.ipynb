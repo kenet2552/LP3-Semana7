{
 "cells": [
  {
   "cell_type": "markdown",
   "id": "fa44a6c7",
   "metadata": {},
   "source": [
    "# Semana 07\n",
    "Kenet Simon Ureta Flover "
   ]
  },
  {
   "cell_type": "raw",
   "id": "86ceeafe",
   "metadata": {},
   "source": [
    "Temas :\n",
    "    1.Numeros\n",
    "    2.Variables \n",
    "    3.Manejo de cadenas \n",
    "    4.Ingreso de cadenas\n",
    "    5.Operadores"
   ]
  },
  {
   "cell_type": "raw",
   "id": "731b3da0",
   "metadata": {},
   "source": [
    "4.Ingreso de cadenas "
   ]
  },
  {
   "cell_type": "code",
   "execution_count": 2,
   "id": "73f0d240",
   "metadata": {},
   "outputs": [
    {
     "name": "stdout",
     "output_type": "stream",
     "text": [
      "¿Cual es tu nombre?\n",
      "kenet\n",
      "hola kenet\n"
     ]
    }
   ],
   "source": [
    "#funcion input()\n",
    "print(\"¿Cual es tu nombre?\")\n",
    "nombre =input()\n",
    "print(\"hola \"+nombre)"
   ]
  },
  {
   "cell_type": "code",
   "execution_count": 3,
   "id": "5eee7c4a",
   "metadata": {},
   "outputs": [
    {
     "name": "stdout",
     "output_type": "stream",
     "text": [
      "Numero 1: \n",
      "10\n",
      "Numero 2: \n",
      "12\n",
      "El resultado es 22\n"
     ]
    }
   ],
   "source": [
    "#Cuando ingresa un valor por teclado lo hace como cadena\n",
    "print(\"Numero 1: \")\n",
    "numero1 = input()\n",
    "print(\"Numero 2: \")\n",
    "numero2 = input()\n",
    "numero3= int(numero1) + int(numero2)\n",
    "print(f\"El resultado es {numero3}\")"
   ]
  },
  {
   "cell_type": "code",
   "execution_count": null,
   "id": "b4afb071",
   "metadata": {},
   "outputs": [],
   "source": []
  }
 ],
 "metadata": {
  "kernelspec": {
   "display_name": "Python 3 (ipykernel)",
   "language": "python",
   "name": "python3"
  },
  "language_info": {
   "codemirror_mode": {
    "name": "ipython",
    "version": 3
   },
   "file_extension": ".py",
   "mimetype": "text/x-python",
   "name": "python",
   "nbconvert_exporter": "python",
   "pygments_lexer": "ipython3",
   "version": "3.9.12"
  }
 },
 "nbformat": 4,
 "nbformat_minor": 5
}
